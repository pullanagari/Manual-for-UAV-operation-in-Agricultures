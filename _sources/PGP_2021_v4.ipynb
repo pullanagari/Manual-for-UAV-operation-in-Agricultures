{
 "cells": [
  {
   "cell_type": "markdown",
   "id": "3b36cb1a",
   "metadata": {},
   "source": [
    "#  imports "
   ]
  },
  {
   "cell_type": "code",
   "execution_count": 2,
   "id": "23729b56",
   "metadata": {},
   "outputs": [
    {
     "name": "stderr",
     "output_type": "stream",
     "text": [
      "C:\\Users\\prreddy\\Anaconda3\\envs\\tensors\\lib\\site-packages\\numpy\\_distributor_init.py:32: UserWarning: loaded more than 1 DLL from .libs:\n",
      "C:\\Users\\prreddy\\Anaconda3\\envs\\tensors\\lib\\site-packages\\numpy\\.libs\\libopenblas.4SP5SUA7CBGXUEOC35YP2ASOICYYEQZZ.gfortran-win_amd64.dll\n",
      "C:\\Users\\prreddy\\Anaconda3\\envs\\tensors\\lib\\site-packages\\numpy\\.libs\\libopenblas.QVLO2T66WEPI7JZ63PS3HMOHFEY472BC.gfortran-win_amd64.dll\n",
      "  stacklevel=1)\n"
     ]
    }
   ],
   "source": [
    "import numpy as np\n",
    "import gpflow\n",
    "#  GLT coode\n",
    "import spectral\n",
    "from spectral import *\n",
    "import spectral.io.envi as envi\n",
    "import os\n",
    "from osgeo import gdal\n",
    "import os\n",
    "import glob\n",
    "from sklearn.model_selection import train_test_split\n",
    "from sklearn.preprocessing import*\n",
    "import matplotlib\n",
    "from gpflow.utilities import print_summary\n",
    "import pandas as pd\n",
    "import os\n",
    "from time import time\n",
    "import time\n",
    "import xarray as xa\n",
    "from matplotlib.pyplot import *\n",
    "import pdb\n",
    "from sklearn.preprocessing import *\n",
    "from sklearn.pipeline import Pipeline\n",
    "from sklearn.model_selection import train_test_split\n",
    "from sklearn.metrics import confusion_matrix, accuracy_score, classification_report, cohen_kappa_score\n",
    "from sklearn.model_selection import RandomizedSearchCV\n",
    "from sklearn.svm import SVR\n",
    "from sklearn.svm import SVC\n",
    "from sklearn.kernel_ridge import KernelRidge\n",
    "from sklearn.model_selection import cross_val_predict\n",
    "from sklearn.metrics import *\n",
    "from sklearn.metrics import mean_squared_error\n",
    "from sklearn.gaussian_process.kernels import WhiteKernel, ExpSineSquared\n",
    "from sklearn.metrics.pairwise import polynomial_kernel\n",
    "from sklearn.metrics.pairwise import rbf_kernel\n",
    "from sklearn.metrics.pairwise import laplacian_kernel\n",
    "from sklearn.metrics import mean_absolute_error\n",
    "from sklearn.metrics import r2_score\n",
    "from sklearn.model_selection import *\n",
    "from operator import truediv\n",
    "import rasterio\n",
    "from rasterio.plot import show\n",
    "from rasterio.merge import merge\n",
    "import pywt \n",
    "from scipy.signal import savgol_filter"
   ]
  },
  {
   "cell_type": "code",
   "execution_count": 6,
   "id": "94cf8453",
   "metadata": {},
   "outputs": [],
   "source": [
    "#  prepare \n",
    "df=pd.read_excel('C:/PGP_Reports/ArcGIS_maps/Total_new2021.xlsx',sheet_name=\"CWV_Angles_spectra\")\n",
    "df=df[df.columns[~df.isnull().all()]]\n",
    "df=df.fillna(0)\n",
    "#df=df.drop(df.index[[67]])\n",
    "Y=df[df.columns[1]]\n",
    "X=df[df.columns[18:]]\n",
    "angles=df[df.columns[[10,11,13]]]\n",
    "# angles=df[df.columns[10:14]]\n",
    "# angles=df[df.columns[9:15]]\n",
    "angles=np.array(angles)\n",
    "Y=np.array(Y)\n",
    "X=savgol_filter(X,9,3,0,mode='nearest')\n",
    "# np.savetxt(\"raw.csv\", X, delimiter=\",\")\n",
    "def waveletTransform(x, wavelet='haar', level=4):\n",
    "    # Decompose to get the wavelet coefficients\n",
    "    coeff = pywt.wavedec( x, wavelet, mode=\"per\" )   \n",
    "    return coeff[6]\n",
    "cD4 = np.array(waveletTransform(X))\n",
    "\n",
    "X=pd.DataFrame(X)\n",
    "x1= X[X.columns[43]]/X[X.columns[77]]\n",
    "x2= X[X.columns[44]]/X[X.columns[64]]\n",
    "x3= X[X.columns[50]]/X[X.columns[95]]\n",
    "x4= X[X.columns[103]]/X[X.columns[111]]\n",
    "x5= X[X.columns[103]]/X[X.columns[141]]\n",
    "x6= X[X.columns[103]]/X[X.columns[177]]\n",
    "x7= X[X.columns[122]]/X[X.columns[183]]\n",
    "x8= X[X.columns[123]]/X[X.columns[217]]\n",
    "x9= X[X.columns[180]]/X[X.columns[211]]\n",
    "x10= X[X.columns[190]]/X[X.columns[213]]\n",
    "x11=X[X.columns[220]]/X[X.columns[233]]\n",
    "x12=X[X.columns[222]]/X[X.columns[269]]\n",
    "x13=X[X.columns[270]]/X[X.columns[405]]\n",
    "x14= X[X.columns[277]]/X[X.columns[281]]\n",
    "x15= X[X.columns[278]]/X[X.columns[288]]\n",
    "x16= X[X.columns[302]]/X[X.columns[313]]\n",
    "x17= X[X.columns[377]]/X[X.columns[398]]\n",
    "x18= X[X.columns[376]]/X[X.columns[408]]\n",
    "x19= X[X.columns[293]]/X[X.columns[301]]\n",
    "x20= X[X.columns[366]]/X[X.columns[370]]\n",
    "\n",
    "\n",
    "Newx=pd.DataFrame(x1)\n",
    "Newx[1]=x2\n",
    "Newx[2]=x3\n",
    "Newx[3]=x4\n",
    "Newx[4]=x5\n",
    "Newx[5]=x6\n",
    "Newx[6]=x7\n",
    "Newx[7]=x8\n",
    "Newx[8]=x9\n",
    "Newx[9]=x10\n",
    "Newx[10]=x11\n",
    "Newx[11]=x12\n",
    "Newx[12]=x13\n",
    "Newx[13]=x14\n",
    "Newx[14]=x15\n",
    "Newx[15]=x16\n",
    "Newx[16]=x17\n",
    "Newx[17]=x18\n",
    "Newx[18]=x19\n",
    "Newx[19]=x20\n",
    "\n",
    "Newx=np.array(Newx)\n",
    "spec=np.concatenate((angles,Newx), axis=1)\n",
    "# spec=Newx\n",
    "np.savetxt(\"wave.csv\", cD4, delimiter=\",\")\n",
    "np.savetxt(\"vi.csv\", spec, delimiter=\",\")\n",
    "# X_train, X_test, Y_train, Y_test = train_test_split(spec, Y, test_size=0.1, random_state=80)\n",
    "scaler=StandardScaler()\n",
    "# scaler=PowerTransformer(method='box-cox', standardize=True)\n",
    "\n",
    "# x1=scaler.fit_transform(spec)\n",
    "# x2=scaler.transform(spec)\n",
    "# spec.shape\n",
    "\n",
    "y_scaler = StandardScaler()\n",
    "X_train = spec[1:1700,:]\n",
    "x1=scaler.fit_transform(X_train)\n",
    "X_test = spec[1100:,:]\n",
    "x2=scaler.transform(X_test)\n",
    "Y_train= Y[1:1700]\n",
    "Y_train = Y_train.reshape(-1,1)\n",
    "Y_test= Y[1100:]"
   ]
  },
  {
   "cell_type": "code",
   "execution_count": 7,
   "id": "92e16030",
   "metadata": {},
   "outputs": [
    {
     "data": {
      "text/plain": [
       "(1742, 23)"
      ]
     },
     "execution_count": 7,
     "metadata": {},
     "output_type": "execute_result"
    }
   ],
   "source": [
    "spec.shape"
   ]
  },
  {
   "cell_type": "code",
   "execution_count": 8,
   "id": "ec608578",
   "metadata": {},
   "outputs": [],
   "source": [
    "# from sklearn.manifold import TSNE\n",
    "\n",
    "# import metric_learn\n",
    "# from sklearn.datasets import make_classification, make_regression\n",
    "# import matplotlib.pyplot as plt\n",
    "# X_train, Y_train = make_regression(n_samples=1000, n_informative=24, n_features=24,\n",
    "#                                shuffle=True)\n",
    "# def plot_tsne(X, y, colormap=plt.cm.Paired):\n",
    "#     plt.figure(figsize=(8, 6))\n",
    "\n",
    "#     # clean the figure\n",
    "#     plt.clf()\n",
    "\n",
    "#     tsne = TSNE()\n",
    "#     X_embedded = tsne.fit_transform(X)\n",
    "#     plt.scatter(X_embedded[:, 0], X_embedded[:, 1], c=y, cmap=colormap)\n",
    "\n",
    "#     plt.xticks(())\n",
    "#     plt.yticks(())\n",
    "\n",
    "#     plt.show()\n",
    "# plot_tsne(X_train, Y_train, plt.cm.Oranges)"
   ]
  },
  {
   "cell_type": "code",
   "execution_count": 9,
   "id": "25e82544",
   "metadata": {},
   "outputs": [],
   "source": [
    "# mlkr = metric_learn.MLKR()\n",
    "# mlkr.fit(x1, Y_train)\n",
    "# x1 = mlkr.transform(x1)\n",
    "# x2=mlkr.transform(x2)\n",
    "# # plot_tsne(X_mlkr, Y_train, plt.cm.Oranges)"
   ]
  },
  {
   "cell_type": "code",
   "execution_count": 10,
   "id": "2baea763",
   "metadata": {},
   "outputs": [],
   "source": [
    "class Tanimoto(gpflow.kernels.Kernel):\n",
    "    def __init__(self):\n",
    "        super().__init__()\n",
    "        # We constrain the value of the kernel variance to be positive when it's being optimised\n",
    "        self.variance = gpflow.Parameter(1.0, transform=positive())\n",
    "\n",
    "    def K(self, X, X2=None):\n",
    "        \"\"\"\n",
    "        Compute the Tanimoto kernel matrix σ² * ((<x, y>) / (||x||^2 + ||y||^2 - <x, y>))\n",
    "        :param X: N x D array\n",
    "        :param X2: M x D array. If None, compute the N x N kernel matrix for X.\n",
    "        :return: The kernel matrix of dimension N x M\n",
    "        \"\"\"\n",
    "        if X2 is None:\n",
    "            X2 = X\n",
    "\n",
    "        Xs = tf.reduce_sum(tf.square(X), axis=-1)  # Squared L2-norm of X\n",
    "        X2s = tf.reduce_sum(tf.square(X2), axis=-1)  # Squared L2-norm of X2\n",
    "        outer_product = tf.tensordot(X, X2, [[-1], [-1]])  # outer product of the matrices X and X2\n",
    "\n",
    "        # Analogue of denominator in Tanimoto formula\n",
    "\n",
    "        denominator = -outer_product + broadcasting_elementwise(tf.add, Xs, X2s)\n",
    "\n",
    "        return self.variance * outer_product/denominator\n",
    "\n",
    "    def K_diag(self, X):\n",
    "        \"\"\"\n",
    "        Compute the diagonal of the N x N kernel matrix of X\n",
    "        :param X: N x D array\n",
    "        :return: N x 1 array\n",
    "        \"\"\"\n",
    "        return tf.fill(tf.shape(X)[:-1], tf.squeeze(self.variance))"
   ]
  },
  {
   "cell_type": "code",
   "execution_count": 11,
   "id": "8971ce46",
   "metadata": {},
   "outputs": [],
   "source": [
    "def haversine_dist(X, X2):\n",
    "    pi = np.pi / 180\n",
    "    f = tf.expand_dims(X * pi, -2)  # ... x N x 1 x D\n",
    "    f2 = tf.expand_dims(X2 * pi, -3)  # ... x 1 x M x D\n",
    "    d = tf.sin((f - f2) / 2) ** 2\n",
    "    lat1, lat2 = tf.expand_dims(X[:, 0] * pi, -1), \\\n",
    "                tf.expand_dims(X2[:, 0] * pi, -2)\n",
    "    cos_prod = tf.cos(lat2) * tf.cos(lat1)\n",
    "    a = d[:,:,0] + cos_prod * d[:,:,1]\n",
    "    c = tf.asin(tf.sqrt(a)) * 6371 * 2\n",
    "    return c\n",
    "\n",
    "\n",
    "class HaversineDistance(gpflow.kernels.Stationary):\n",
    "    def __init__(self, base: gpflow.kernels.Stationary):\n",
    "        self.base = base\n",
    "\n",
    "    @property\n",
    "    def active_dims(self):\n",
    "        return self.base.active_dims\n",
    "\n",
    "    @property\n",
    "    def variance(self):\n",
    "        return self.base.variance  # for K_diag to work\n",
    "\n",
    "    def K(self, X, X2=None, presliced=False):\n",
    "        if not presliced:\n",
    "            X, X2 = self.slice(X, X2)\n",
    "        if X2 is None:\n",
    "            X2 = X\n",
    "\n",
    "        # Note that lengthscale is in Haversine distance space:\n",
    "        r = haversine_dist(X, X2) / self.base.lengthscale\n",
    "\n",
    "        if hasattr(self.base, \"K_r\"):\n",
    "            return self.base.K_r(r)\n",
    "        else:\n",
    "            return self.base.K_r2(tf.square(r))"
   ]
  },
  {
   "cell_type": "code",
   "execution_count": 12,
   "id": "fa1144a0",
   "metadata": {},
   "outputs": [],
   "source": [
    "# import tensorflow_probability as tfp\n",
    "\n",
    "# f64 = lambda x: np.array(x, dtype=np.float64)\n",
    "# positive_with_min = lambda: tfp.bijectors.AffineScalar(shift=f64(1e-4))(tfp.bijectors.Softplus())\n",
    "# constrained = lambda: tfp.bijectors.AffineScalar(shift=f64(1e-4), scale=f64(100.0))(\n",
    "#     tfp.bijectors.Sigmoid()\n",
    "# )\n",
    "# max_abs_1 = lambda: tfp.bijectors.AffineScalar(shift=f64(-2.0), scale=f64(4.0))(\n",
    "#     tfp.bijectors.Sigmoid()\n",
    "# )\n",
    "\n",
    "# patch_shape = [3, 3]\n",
    "# conv_k = gpflow.kernels.Convolutional(gpflow.kernels.SquaredExponential(), X_train.shape, patch_shape)\n",
    "# conv_k.base_kernel.lengthscales = gpflow.Parameter(1.0, transform=positive_with_min())\n",
    "# # Weight scale and variance are non-identifiable. We also need to prevent variance from shooting off crazily.\n",
    "# conv_k.base_kernel.variance = gpflow.Parameter(1.0, transform=constrained())\n",
    "# conv_k.weights = gpflow.Parameter(conv_k.weights.numpy(), transform=max_abs_1())\n",
    "# conv_f = gpflow.inducing_variables.InducingPatches(\n",
    "#     np.unique(conv_k.get_patches(X).numpy().reshape(-1, 9), axis=0)\n",
    "# )"
   ]
  },
  {
   "cell_type": "code",
   "execution_count": 13,
   "id": "fd6fe43e",
   "metadata": {},
   "outputs": [],
   "source": [
    "from typing import List\n",
    "\n",
    "import gpflow.kernels as gk\n",
    "\n",
    "KERNEL_DICT = dict(\n",
    "    White=gk.White,\n",
    "    Constant=gk.Constant,\n",
    "    ExpQuad=gk.RBF,\n",
    "    RBF=gk.RBF,\n",
    "    Matern12=gk.Matern12,\n",
    "    Matern32=gk.Matern32,\n",
    "    Matern52=gk.Matern52,\n",
    "    Cosine=gk.Cosine,\n",
    "    ArcCosine=gk.ArcCosine,\n",
    "    Linear=gk.Linear,\n",
    "    Periodic=gk.Periodic,\n",
    "    RatQuad=gk.RationalQuadratic,\n",
    ")\n",
    "\n",
    "\n",
    "def load_default_basis_kernels(ls=1.0, input_dims=1) -> List:\n",
    "    \"\"\"  Define list of kernels to be used as input layer for the kernel network.\n",
    "    Matches setup in Neural-Kernel-Network-master\n",
    "    :param float ls: Initial lengthscale\n",
    "    :return: List of kernels\n",
    "    \"\"\"\n",
    "\n",
    "    kernel_params_list = [\n",
    "    {'name': 'Linear', 'params': {'input_dim': input_dims, 'name': 'k0'}},\n",
    "    {'name': 'Periodic', 'params': {'input_dim': input_dims, 'period': ls, 'lengthscales': ls, 'name': 'k1'}},\n",
    "    {'name': 'ExpQuad', 'params': {'input_dim': input_dims, 'lengthscales': ls / 4.0, 'name': 'k2'}},\n",
    "    {'name': 'RatQuad', 'params': {'input_dim': input_dims, 'alpha': 0.2, 'lengthscales': ls * 2.0, 'name': 'k3'}},\n",
    "    {'name': 'Linear', 'params': {'input_dim': input_dims, 'name': 'k4'}},\n",
    "    {'name': 'RatQuad', 'params': {'input_dim': input_dims, 'alpha': 0.1, 'lengthscales': ls, 'name': 'k5'}},\n",
    "    {'name': 'ExpQuad', 'params': {'input_dim': input_dims, 'lengthscales': ls, 'name': 'k6'}},\n",
    "    {'name': 'Periodic','params': {'input_dim': input_dims, 'period': ls / 4.0, 'lengthscales': ls / 4.0, 'name': 'k7'}}]\n",
    "    kernel_list = []\n",
    "    for kernel_param_dict in kernel_params_list:\n",
    "        kernel_name = str(kernel_param_dict['name'])\n",
    "        kernel_params = kernel_param_dict['params']\n",
    "        kernel = KERNEL_DICT[kernel_name]\n",
    "        initialised_kernel = kernel(**kernel_params)\n",
    "        kernel_list.append(initialised_kernel)\n",
    "    return kernel_list"
   ]
  },
  {
   "cell_type": "code",
   "execution_count": 14,
   "id": "ddca057b",
   "metadata": {},
   "outputs": [],
   "source": [
    "class HeteroskedasticGaussian(gpflow.likelihoods.Likelihood):\n",
    "    def __init__(self, **kwargs):\n",
    "        # this likelihood expects a single latent function F, and two columns in the data matrix Y:\n",
    "        super().__init__(latent_dim=24, observation_dim=24, **kwargs)\n",
    "\n",
    "    def _log_prob(self, F, Y):\n",
    "        # log_prob is used by the quadrature fallback of variational_expectations and predict_log_density.\n",
    "        # Because variational_expectations is implemented analytically below, this is not actually needed,\n",
    "        # but is included for pedagogical purposes.\n",
    "        # Note that currently relying on the quadrature would fail due to https://github.com/GPflow/GPflow/issues/966\n",
    "        Y, NoiseVar = Y[:, 0], Y[:, 1]\n",
    "        return gpflow.logdensities.gaussian(Y, F, NoiseVar)\n",
    "\n",
    "    def _variational_expectations(self, Fmu, Fvar, Y):\n",
    "        Y, NoiseVar = Y[:, 0], Y[:, 1]\n",
    "        Fmu, Fvar = Fmu[:, 0], Fvar[:, 0]\n",
    "        return (\n",
    "            -0.5 * np.log(2 * np.pi)\n",
    "            - 0.5 * tf.math.log(NoiseVar)\n",
    "            - 0.5 * (tf.math.square(Y - Fmu) + Fvar) / NoiseVar\n",
    "        )\n",
    "\n",
    "    # The following two methods are abstract in the base class.\n",
    "    # They need to be implemented even if not used.\n",
    "\n",
    "    def _predict_log_density(self, Fmu, Fvar, Y):\n",
    "        raise NotImplementedError\n",
    "\n",
    "    def _predict_mean_and_var(self, Fmu, Fvar):\n",
    "        raise NotImplementedError"
   ]
  },
  {
   "cell_type": "code",
   "execution_count": 15,
   "id": "2a9b5157",
   "metadata": {},
   "outputs": [
    {
     "data": {
      "text/plain": [
       "(1699, 23)"
      ]
     },
     "execution_count": 15,
     "metadata": {},
     "output_type": "execute_result"
    }
   ],
   "source": [
    "x1.shape"
   ]
  },
  {
   "cell_type": "markdown",
   "id": "8130712b",
   "metadata": {},
   "source": [
    "#  model "
   ]
  },
  {
   "cell_type": "code",
   "execution_count": 16,
   "id": "f3633ab9",
   "metadata": {},
   "outputs": [
    {
     "data": {
      "application/vnd.jupyter.widget-view+json": {
       "model_id": "96391eff9bd249f187ca01be47bc89fd",
       "version_major": 2,
       "version_minor": 0
      },
      "text/plain": [
       "  0%|          | 0/500 [00:00<?, ?it/s]"
      ]
     },
     "metadata": {},
     "output_type": "display_data"
    }
   ],
   "source": [
    "import tensorflow as tf\n",
    "from tqdm.auto import tqdm\n",
    "from gpflow.mean_functions import Constant\n",
    "from gpflow.utilities import positive, print_summary\n",
    "from gpflow.utilities.ops import broadcasting_elementwise\n",
    "from gpflow.utilities.ops import square_distance\n",
    "\n",
    "minibatch_size = 21\n",
    "# Y2 = Y.reshape(-1,1)   ....\n",
    "Y2=np.float64(Y_train)#...\n",
    "QX = X_train.shape[1]\n",
    "k1 = gpflow.kernels.Matern52()\n",
    "k2 = gpflow.kernels.Linear()\n",
    "k3 = gpflow.kernels.RBF()\n",
    "k4 = gpflow.kernels.SquaredExponential()\n",
    "k5 = gpflow.kernels.White()\n",
    "k6 = Tanimoto()\n",
    "k7 = gpflow.kernels.ArcCosine()\n",
    "k8 = gpflow.kernels.RationalQuadratic()\n",
    "k9 = gpflow.kernels.AnisotropicStationary()\n",
    "k10=HeteroskedasticGaussian()\n",
    "k=k3*k7\n",
    "meanf = gpflow.mean_functions.Zero()  \n",
    "m = gpflow.models.GPR(data=(x1,Y2), mean_function=None,kernel=k1,noise_variance=2)\n",
    "m.likelihood.variance.assign(0.02)\n",
    "opt = gpflow.optimizers.Scipy()\n",
    "opt_logs = opt.minimize(m.training_loss, m.trainable_variables, options=dict(maxiter=1000))\n",
    "def run_adam(model, iterations):\n",
    "    \"\"\"\n",
    "    Utility function running the Adam optimizer\n",
    "    \"\"\"\n",
    "\n",
    "    # Create an Adam Optimizer action\n",
    "    losses = []\n",
    "    training_loss = model.training_loss\n",
    "    optimizer = tf.optimizers.Adam()\n",
    "\n",
    "    @tf.function\n",
    "    def optimization_step():\n",
    "        optimizer.minimize(training_loss, model.trainable_variables)\n",
    "\n",
    "    for step in tqdm(range(iterations), total=iterations):\n",
    "        optimization_step()\n",
    "        if step % 10 == 0:\n",
    "            elbo = -training_loss().numpy()\n",
    "            losses.append(elbo)\n",
    "    return losses\n",
    "run_adam(model=m, iterations=500)\n",
    "yt,sd=m.predict_y(x2)#...\n",
    "# yt=np.reshape(yt,[-1])\n",
    "# fig = px.scatter(x=Y, y=yt,width=500, height=500)\n",
    "# fig.show()"
   ]
  },
  {
   "cell_type": "code",
   "execution_count": 17,
   "id": "fb2cd715",
   "metadata": {},
   "outputs": [
    {
     "data": {
      "text/plain": [
       "TensorShape([642, 1])"
      ]
     },
     "execution_count": 17,
     "metadata": {},
     "output_type": "execute_result"
    }
   ],
   "source": [
    "yt.shape"
   ]
  },
  {
   "cell_type": "code",
   "execution_count": 26,
   "id": "419b937a",
   "metadata": {},
   "outputs": [
    {
     "data": {
      "text/plain": [
       "[<matplotlib.lines.Line2D at 0x221ac4e2688>]"
      ]
     },
     "execution_count": 26,
     "metadata": {},
     "output_type": "execute_result"
    },
    {
     "data": {
      "image/png": "[encoded data removed]",
      "text/plain": [
       "<Figure size 432x288 with 1 Axes>"
      ]
     },
     "metadata": {
      "needs_background": "light"
     },
     "output_type": "display_data"
    }
   ],
   "source": [
    "# yt1=y_scaler.inverse_transform(yt)\n",
    "plot(yt)"
   ]
  },
  {
   "cell_type": "markdown",
   "id": "6efa01dc",
   "metadata": {},
   "source": [
    "#  metrics "
   ]
  },
  {
   "cell_type": "code",
   "execution_count": 27,
   "id": "f7c4ca13",
   "metadata": {},
   "outputs": [
    {
     "name": "stdout",
     "output_type": "stream",
     "text": [
      "MSE CV: 21.462\n",
      "R2 CV: 0.905\n",
      "RMSE: 4.633\n",
      "nRMSE: 19.940\n",
      "RPD: 3.250\n",
      "Bias: 10.323\n"
     ]
    }
   ],
   "source": [
    "def regression_metrics(Y,yt):\n",
    "    score = r2_score(Y, yt)\n",
    "    mse = mean_squared_error(Y, yt)\n",
    "    rmse = np.sqrt(mse)\n",
    "    nrmse=(rmse/np.mean(Y))*100\n",
    "    Variance = np.var(yt) \n",
    "    SSE = np.mean((np.mean(yt) - Y)** 2)\n",
    "    Bias = SSE - Variance\n",
    "    RPD=np.std(Y)/rmse\n",
    "    return (score, mse, rmse, nrmse,Bias,RPD)\n",
    "score, mse, rmse, nrmse,Bias,RPD = regression_metrics(Y_test,yt)\n",
    "print('MSE CV: %5.3f' % mse)\n",
    "print('R2 CV: %5.3f'  % score)\n",
    "print('RMSE: %5.3f'  % rmse)\n",
    "print('nRMSE: %5.3f'  % nrmse)\n",
    "print('RPD: %5.3f'  % RPD)\n",
    "print('Bias: %5.3f'  % Bias)"
   ]
  },
  {
   "cell_type": "code",
   "execution_count": 28,
   "id": "dba4c90b",
   "metadata": {},
   "outputs": [
    {
     "data": {
      "text/plain": [
       "<matplotlib.collections.PathCollection at 0x221aaab6f48>"
      ]
     },
     "execution_count": 28,
     "metadata": {},
     "output_type": "execute_result"
    },
    {
     "data": {
      "image/png": "[encoded data removed]",
      "text/plain": [
       "<Figure size 432x288 with 1 Axes>"
      ]
     },
     "metadata": {
      "needs_background": "light"
     },
     "output_type": "display_data"
    }
   ],
   "source": [
    "scatter(Y_test,yt)"
   ]
  },
  {
   "cell_type": "markdown",
   "id": "e4f36e69",
   "metadata": {},
   "source": [
    "#  helper functions"
   ]
  },
  {
   "cell_type": "code",
   "execution_count": 29,
   "id": "b584692f",
   "metadata": {},
   "outputs": [],
   "source": [
    "def apply_glt(glt, raster, background_value=-9999, out=None):\n",
    "    print(glt.shape, raster.shape)\n",
    "    out = np.zeros((glt.shape[0], glt.shape[1], 1))\n",
    "    glt_pos = np.absolute(glt)\n",
    "    glt_mask = np.all(glt_pos == 0, axis=2)\n",
    "    out[glt_mask, :] = background_value\n",
    "    print(out.shape)\n",
    "    out[~glt_mask, :] = raster[glt_pos[~glt_mask, 1] - 1, glt_pos[~glt_mask, 0] - 1, :]\n",
    "    del glt_mask\n",
    "    del raster\n",
    "    del glt_pos\n",
    "    del background_value\n",
    "    return out\n",
    "def read (glt,name,img2):\n",
    "#   get glt meta\n",
    "    glt = open_image(glt)\n",
    "    glt_memmap = glt.open_memmap(interleave='bip', writable=False)\n",
    "    glt_metadata=glt.metadata   \n",
    "    output_memmap=img2\n",
    "    keys_from_glt = ['map info', 'samples', 'lines']\n",
    "    gltinfo=glt_metadata['map info']\n",
    "    gltSamples=glt_metadata['samples']\n",
    "    gltLines=glt_metadata['lines']\n",
    "    keys_from_glt = ['map info', 'samples', 'lines']\n",
    "    geo_metadata = {**glt_metadata, **{k: glt.metadata[k] for k in glt.metadata.keys() & keys_from_glt}}\n",
    "    print(name)\n",
    "    geo_filename = name+\"garbage.hdr\"\n",
    "    geo_file = envi.create_image(geo_filename, glt_metadata, force=True, ext='',writable=False)\n",
    "    geo_memmap = geo_file.open_memmap(interleave='bip', writable=False)\n",
    "    print(output_memmap.shape)\n",
    "    return glt_memmap, output_memmap, geo_memmap\n"
   ]
  },
  {
   "cell_type": "code",
   "execution_count": 20,
   "id": "430ac124",
   "metadata": {},
   "outputs": [],
   "source": [
    "def get_ratios(strip):\n",
    "#     strip1= strip[strip.columns[37]]/strip[strip.columns[50]]\n",
    "#     strip2= strip[strip.columns[57]]/strip[strip.columns[68]]\n",
    "#     strip3= strip[strip.columns[71]]/strip[strip.columns[153]]\n",
    "#     strip4= strip[strip.columns[106]]/strip[strip.columns[123]]\n",
    "#     strip5= strip[strip.columns[135]]/strip[strip.columns[157]]\n",
    "#     strip6= strip[strip.columns[144]]/strip[strip.columns[221]]\n",
    "#     strip7= strip[strip.columns[184]]/strip[strip.columns[217]]\n",
    "#     strip8= strip[strip.columns[275]]/strip[strip.columns[286]]\n",
    "#     strip9= strip[strip.columns[303]]/strip[strip.columns[316]]\n",
    "#     strip10= strip[strip.columns[268]]/strip[strip.columns[408]]\n",
    "#     strip11=strip[strip.columns[372]]/strip[strip.columns[386]]\n",
    "#     strip12=strip[strip.columns[19]]/strip[strip.columns[53]]\n",
    "#     strip13=strip[strip.columns[122]]/strip[strip.columns[220]]\n",
    "#     strip14= strip[strip.columns[300]]/strip[strip.columns[417]]\n",
    "    strip1= strip[strip.columns[43]]/strip[strip.columns[77]]\n",
    "    strip2= strip[strip.columns[44]]/strip[strip.columns[64]]\n",
    "    strip3= strip[strip.columns[50]]/strip[strip.columns[95]]\n",
    "    strip4= strip[strip.columns[103]]/strip[strip.columns[111]]\n",
    "    strip5= strip[strip.columns[103]]/strip[strip.columns[141]]\n",
    "    strip6= strip[strip.columns[103]]/strip[strip.columns[177]]\n",
    "    strip7= strip[strip.columns[122]]/strip[strip.columns[183]]\n",
    "    strip8= strip[strip.columns[123]]/strip[strip.columns[217]]\n",
    "    strip9= strip[strip.columns[180]]/strip[strip.columns[211]]\n",
    "    strip10= strip[strip.columns[190]]/strip[strip.columns[213]]\n",
    "    strip11=strip[strip.columns[220]]/strip[strip.columns[233]]\n",
    "    strip12=strip[strip.columns[222]]/strip[strip.columns[269]]\n",
    "    strip13=strip[strip.columns[270]]/strip[strip.columns[405]]\n",
    "    strip14= strip[strip.columns[277]]/strip[strip.columns[281]]\n",
    "    strip15= strip[strip.columns[278]]/strip[strip.columns[288]]\n",
    "    strip16= strip[strip.columns[302]]/strip[strip.columns[313]]\n",
    "    strip17= strip[strip.columns[377]]/strip[strip.columns[398]]\n",
    "    strip18= strip[strip.columns[376]]/strip[strip.columns[408]]\n",
    "    strip19= strip[strip.columns[293]]/strip[strip.columns[301]]\n",
    "    strip20= strip[strip.columns[366]]/strip[strip.columns[370]]\n",
    "    print(\"Dataframe\")\n",
    "\n",
    "    Newstrip=pd.DataFrame(strip1)\n",
    "    Newstrip[1]=strip2\n",
    "    Newstrip[2]=strip3\n",
    "    Newstrip[3]=strip4\n",
    "    Newstrip[4]=strip5\n",
    "    Newstrip[5]=strip6\n",
    "    Newstrip[6]=strip7\n",
    "    Newstrip[7]=strip8\n",
    "    Newstrip[8]=strip9\n",
    "    Newstrip[9]=strip10\n",
    "    Newstrip[10]=strip11\n",
    "    Newstrip[11]=strip12\n",
    "    Newstrip[12]=strip13\n",
    "    Newstrip[13]=strip14\n",
    "    Newstrip[14]=strip15\n",
    "    Newstrip[15]=strip16\n",
    "    Newstrip[16]=strip17\n",
    "    Newstrip[17]=strip18\n",
    "    Newstrip[18]=strip19\n",
    "    Newstrip[19]=strip20\n",
    "#     Newstrip[20]=strip21\n",
    "#     Newstrip[21]=strip22\n",
    "#     Newstrip[22]=strip23\n",
    "#     Newstrip[23]=strip24\n",
    "#     Newstrip[24]=strip25\n",
    "#     Newstrip[25]=strip26\n",
    "#     Newstrip[26]=strip27\n",
    "#     Newstrip[27]=strip28\n",
    "#     Newstrip[28]=strip29\n",
    "#     Newstrip[29]=strip30\n",
    "    return Newstrip  "
   ]
  },
  {
   "cell_type": "code",
   "execution_count": 261,
   "id": "bd0bd7a4",
   "metadata": {},
   "outputs": [
    {
     "name": "stderr",
     "output_type": "stream",
     "text": [
      "C:\\Users\\prreddy\\Anaconda3\\envs\\tensors\\lib\\site-packages\\ipykernel_launcher.py:7: DeprecationWarning: `np.float` is a deprecated alias for the builtin `float`. To silence this warning, use `float` by itself. Doing this will not modify any behavior and is safe. If you specifically wanted the numpy scalar type, use `np.float64` here.\n",
      "Deprecated in NumPy 1.20; for more details and guidance: https://numpy.org/devdocs/release/1.20.0-notes.html#deprecations\n",
      "  import sys\n"
     ]
    }
   ],
   "source": [
    "def make_angles(file):\n",
    "    driver = gdal.GetDriverByName('ENVI')\n",
    "    driver.Register()\n",
    "    raster = gdal.Open(file, gdal.GA_ReadOnly)\n",
    "    geo_transform = raster.GetGeoTransform()\n",
    "    proj = raster.GetProjectionRef()\n",
    "    raster_array = raster.ReadAsArray().astype(np.float)\n",
    "    raster_array = np.dstack(raster_array)\n",
    "    rows, cols, n_bands = raster_array.shape\n",
    "    angles_array = np.reshape(raster_array, (rows * cols, n_bands))\n",
    "    return angles_array\n",
    "three=glob.glob(r'W:\\pgp\\NPT\\4_Fenix\\2021_9Nov\\CWV+Angles\\Angles\\*_r20_*.img')\n",
    "# angle_image=[three[1]]\n",
    "angles_array=make_angles(three[0])\n",
    "# angles_array=angles_array[:,6:8]\n",
    "angles_array=angles_array[:,[3,4,6]]\n",
    "# angles_array=make_angles(r'W:\\pgp\\NPT\\4_Fenix\\2020_12Nov\\IlluminationAnglesData\\GeoRef_NPT2020_r14_2020-11-12_14-41-01_syncedNav.img')\n",
    "# angles_array=angles_array[:,5:7]"
   ]
  },
  {
   "cell_type": "code",
   "execution_count": 262,
   "id": "38b7bb4f",
   "metadata": {},
   "outputs": [
    {
     "data": {
      "text/plain": [
       "array([ 48.04562759,  59.80411911, 173.20863342])"
      ]
     },
     "execution_count": 262,
     "metadata": {},
     "output_type": "execute_result"
    }
   ],
   "source": [
    "angles_array[1,:]"
   ]
  },
  {
   "cell_type": "code",
   "execution_count": 263,
   "id": "c5fc4055",
   "metadata": {},
   "outputs": [],
   "source": [
    "def make_olsen(file):\n",
    "    time_start = time.clock()\n",
    "#     da=xa.open_rasterio(r\"\\\\tur-nzcpa1\\PGP\\NPT\\4. Fenix\\2020_12Nov\\test\\r1_ATM.img\")\n",
    "    print(file)\n",
    "#     da=xa.open_rasterio(file)\n",
    "#     da=da.transpose(\"y\",\"x\",\"band\")\n",
    "#     das=np.array(da)\n",
    "    driver = gdal.GetDriverByName('ENVI')\n",
    "    driver.Register()\n",
    "    raster = gdal.Open(file, gdal.GA_ReadOnly)\n",
    "    geo_transform = raster.GetGeoTransform()\n",
    "    proj = raster.GetProjectionRef()\n",
    "    raster_array = raster.ReadAsArray().astype(np.float)\n",
    "    raster_array = np.dstack(raster_array)\n",
    "    rows, cols, n_bands = raster_array.shape\n",
    "    raster_array = np.reshape(raster_array, (rows * cols, n_bands))\n",
    "    print(\"Savgolay and removal of band 175\")\n",
    "    strip=savgol_filter(raster_array,9,3,0,mode='nearest')\n",
    "    strip=pd.DataFrame(strip)\n",
    "#     strip=strip.drop([175],axis=1)##449\n",
    "    strip=np.array(strip)\n",
    "    strip=pd.DataFrame(strip)\n",
    "    print(\"strip.shape\")\n",
    "#     strip.columns = list(range(1, 449))##449\n",
    "    print(\"Get simple ratios\")\n",
    "    Newstrip=get_ratios(strip)\n",
    "#     stripcD4 = np.array(waveletTransform(strip))#wavelet\n",
    "#     stripcdy = stripcD4[:,25:30]#wavelet\n",
    "#     stripcdy=np.array(stripcdy)#wavelet\n",
    "    print(\"NAN and Inf removal\")   \n",
    "    Newstrip=np.array(Newstrip)\n",
    "#     Newstrip =np.concatenate((Newstrip, stripcdy), axis=1)#wavelet\n",
    "#     angle_array=angle_image\n",
    "    \n",
    "    Newstrip =np.concatenate((angles_array,Newstrip), axis=1)\n",
    "    Newstrip[Newstrip==np.inf]=np.nan\n",
    "    Newstrip = np.nan_to_num(Newstrip)\n",
    "    Newstrip=np.array(Newstrip)\n",
    "    Newstrip=scaler.transform(Newstrip)\n",
    "    Newstrip=np.array(Newstrip,dtype='float64')\n",
    "    print(\"To chunks and inference\")   \n",
    "    results=[]\n",
    "    bla=np.array_split(Newstrip, 80)\n",
    "    print(bla[0].shape)\n",
    "    for i in range(len(bla)):\n",
    "        yt,sd=m.predict_y(bla[i])\n",
    "        results.append(yt)\n",
    "    img=np.concatenate(results)\n",
    "    print(\"reshaping predicted olsenp to 2D\")\n",
    "    img = np.reshape(img, (rows, cols))\n",
    "    img=img.reshape(img.shape[0],img.shape[1],1)\n",
    "    return img\n"
   ]
  },
  {
   "cell_type": "code",
   "execution_count": 264,
   "id": "ab697e2f",
   "metadata": {},
   "outputs": [],
   "source": [
    "# two=glob.glob(r\"Z:\\NBA\\4. Fenix\\Spring2020\\Output_WithoutTarps\\*r4_ATM*\")\n",
    "# two"
   ]
  },
  {
   "cell_type": "code",
   "execution_count": 265,
   "id": "57c3c5d0",
   "metadata": {},
   "outputs": [
    {
     "data": {
      "text/plain": [
       "['W:\\\\pgp\\\\NPT\\\\4_Fenix\\\\2021_9Nov\\\\AtmCorrected\\\\r20_AtmCorr.hdr',\n",
       " 'W:\\\\pgp\\\\NPT\\\\4_Fenix\\\\2021_9Nov\\\\AtmCorrected\\\\r20_AtmCorr.img']"
      ]
     },
     "execution_count": 265,
     "metadata": {},
     "output_type": "execute_result"
    }
   ],
   "source": [
    "#two=glob.glob(r\"D:\\test\\*r30_*\")\n",
    "two=glob.glob(r\"W:\\pgp\\NPT\\4_Fenix\\2021_9Nov\\AtmCorrected\\*r20_*\")[0:2]\n",
    "two"
   ]
  },
  {
   "cell_type": "code",
   "execution_count": 266,
   "id": "2e2137ee",
   "metadata": {},
   "outputs": [
    {
     "data": {
      "text/plain": [
       "['W:\\\\pgp\\\\NPT\\\\4_Fenix\\\\2021_9Nov\\\\GLT\\\\r20_2021-11-09_13-24-29_GLT.dat',\n",
       " 'W:\\\\pgp\\\\NPT\\\\4_Fenix\\\\2021_9Nov\\\\GLT\\\\r20_2021-11-09_13-24-29_GLT.hdr']"
      ]
     },
     "execution_count": 266,
     "metadata": {},
     "output_type": "execute_result"
    }
   ],
   "source": [
    "# one=glob.glob(r\"W:\\pgp\\SMB\\4. Fenix\\GLT\\*r12_*GLT*\")\n",
    "one=glob.glob(r\"W:\\pgp\\NPT\\4_Fenix\\2021_9Nov\\GLT\\*r20_*GLT*\")\n",
    "one"
   ]
  },
  {
   "cell_type": "code",
   "execution_count": 267,
   "id": "812a9fc9",
   "metadata": {},
   "outputs": [
    {
     "data": {
      "text/plain": [
       "'r20_AtmCorr.img'"
      ]
     },
     "execution_count": 267,
     "metadata": {},
     "output_type": "execute_result"
    }
   ],
   "source": [
    "# files=[r\"Z:\\NPT\\4. Fenix\\2020_12Nov\\test\\r1_ATM.img\"]\n",
    "# GLTdats=[r\"\\\\tur-nzcpa1\\PGP\\NPT\\4. Fenix\\2020_12Nov\\GLT_8M_LINZ\\NPT2020_r2_2020-11-12_13-54-17_GLT.dat\"]\n",
    "# gltHeaders=[r\"\\\\tur-nzcpa1\\PGP\\NPT\\4. Fenix\\2020_12Nov\\GLT_8M_LINZ\\NPT2020_r2_2020-11-12_13-54-17_GLT.hdr\"]\n",
    "# ythdrs=[r\"Z:\\NPT\\4. Fenix\\2020_12Nov\\test\\r2_ATM.hdr\"]\n",
    "files=[two[1]]\n",
    "GLTdats=[one[0]]\n",
    "gltHeaders=[one[1]]\n",
    "ythdrs=[two[0]]\n",
    "os.path.basename(two[1])"
   ]
  },
  {
   "cell_type": "code",
   "execution_count": 268,
   "id": "d51ab021",
   "metadata": {
    "scrolled": true
   },
   "outputs": [
    {
     "name": "stdout",
     "output_type": "stream",
     "text": [
      "W:\\pgp\\NPT\\4_Fenix\\2021_9Nov\\AtmCorrected\\r20_AtmCorr.img\n",
      "W:\\pgp\\NPT\\4_Fenix\\2021_9Nov\\AtmCorrected\\r20_AtmCorr.img\n"
     ]
    },
    {
     "name": "stderr",
     "output_type": "stream",
     "text": [
      "C:\\Users\\prreddy\\Anaconda3\\envs\\tensors\\lib\\site-packages\\ipykernel_launcher.py:2: DeprecationWarning: time.clock has been deprecated in Python 3.3 and will be removed from Python 3.8: use time.perf_counter or time.process_time instead\n",
      "  \n",
      "C:\\Users\\prreddy\\Anaconda3\\envs\\tensors\\lib\\site-packages\\ipykernel_launcher.py:13: DeprecationWarning: `np.float` is a deprecated alias for the builtin `float`. To silence this warning, use `float` by itself. Doing this will not modify any behavior and is safe. If you specifically wanted the numpy scalar type, use `np.float64` here.\n",
      "Deprecated in NumPy 1.20; for more details and guidance: https://numpy.org/devdocs/release/1.20.0-notes.html#deprecations\n",
      "  del sys.path[0]\n"
     ]
    },
    {
     "name": "stdout",
     "output_type": "stream",
     "text": [
      "Savgolay and removal of band 175\n",
      "strip.shape\n",
      "Get simple ratios\n",
      "Dataframe\n",
      "NAN and Inf removal\n",
      "To chunks and inference\n",
      "(54936, 23)\n",
      "reshaping predicted olsenp to 2D\n",
      "W:\\pgp\\NPT\\4_Fenix\\2021_9Nov\\AtmCorrected\\r20_AtmCorr.hdr\n",
      "(11445, 384, 1)\n",
      "(8331, 750, 2) (11445, 384, 1)\n",
      "(8331, 750, 1)\n"
     ]
    }
   ],
   "source": [
    "# for i in range(len(files)):\n",
    "#     drivers = gdal.GetDriverByName('ENVI')\n",
    "#     drivers.Register()\n",
    "#     rasters = gdal.Open(GLTdats[i], gdal.GA_ReadOnly)\n",
    "#     geo_transform = rasters.GetGeoTransform()\n",
    "#     proj = rasters.GetProjectionRef()\n",
    "#     print(files[i])\n",
    "#     img=make_olsen(files[i])\n",
    "    \n",
    "# img.shape\n",
    "# img1=img.reshape(15162,384,30)\n",
    "# import spectral.io.envi as envi\n",
    "# envi.save_image('sample.hdr',img1)\n",
    "for i in range(len(files)):\n",
    "    drivers = gdal.GetDriverByName('ENVI')\n",
    "    drivers.Register()\n",
    "    rasters = gdal.Open(GLTdats[i], gdal.GA_ReadOnly)\n",
    "    geo_transform = rasters.GetGeoTransform()\n",
    "    proj = rasters.GetProjectionRef()\n",
    "    print(files[i])\n",
    "    img=make_olsen(files[i])\n",
    "    glt_memmap, output_memmap, geo_memmap= read(gltHeaders[i],ythdrs[i],img)\n",
    "    cor=apply_glt(glt_memmap, output_memmap,out=geo_memmap)\n",
    "    cor=cor[:,:,0]\n",
    "    # img_folder = os.path.join(os.getcwd(), \"olsen\")\n",
    "    str1 = os.path.basename(files[i])\n",
    "    str2 = \"rectifed_olsen.tif\"\n",
    "    newstr = \" \".join((str1, str2))\n",
    "#     print(newstr)\n",
    "#     outfile = os.path.join(os.getcwd(), \"tempolsenp\")\n",
    "#     newstr = \" \".join((outfile, newstr))\n",
    "#     print(newstr)\n",
    "    myloc=r\"C:\\\\Users\\\\prreddy\\\\Documents\\\\Python\\\\tempolsenp1\\\\\"+newstr\n",
    "    outdriver = gdal.GetDriverByName('GTiff')\n",
    "    outdata = outdriver.Create(myloc,cor.shape[1],cor.shape[0],1, gdal.GDT_Float64)\n",
    "    outdata.GetRasterBand(1).WriteArray(cor)\n",
    "    outdata.SetGeoTransform(geo_transform)\n",
    "    outdata.SetProjection(proj)\n",
    "    outdata.GetRasterBand(1).SetNoDataValue(-9999)\n",
    "    outdata.FlushCache()"
   ]
  },
  {
   "cell_type": "code",
   "execution_count": null,
   "id": "51e81b03",
   "metadata": {},
   "outputs": [],
   "source": []
  },
  {
   "cell_type": "code",
   "execution_count": null,
   "id": "7e21497b",
   "metadata": {},
   "outputs": [],
   "source": [
    "file = 'W:\\\\pgp\\\\NPT\\\\4. Fenix\\\\2020_12Nov\\\\NPT_Output_28032021\\\\r1_ATM.img'\n",
    "driver = gdal.GetDriverByName('ENVI')\n",
    "driver.Register()\n",
    "raster = gdal.Open(file, gdal.GA_ReadOnly)\n",
    "geo_transform = raster.GetGeoTransform()\n",
    "proj = raster.GetProjectionRef()\n",
    "raster_array = raster.ReadAsArray().astype(np.float)\n",
    "raster_array = np.dstack(raster_array)\n",
    "rows, cols, n_bands = raster_array.shape\n",
    "raster_array = np.reshape(raster_array, (rows * cols, n_bands))\n",
    "print(\"Savgolay and removal of band 175\")\n",
    "strip=savgol_filter(raster_array,9,3,0,mode='nearest')\n",
    "strip=pd.DataFrame(strip)\n",
    "strip=strip.drop([175],axis=1)\n",
    "strip=np.array(strip)\n",
    "strip=pd.DataFrame(strip)\n",
    "strip.columns = list(range(1, 449))\n",
    "print(\"Get simple ratios\")\n",
    "Newstrip=get_ratios(strip)\n",
    "\n",
    "\n",
    "\n",
    "\n"
   ]
  },
  {
   "cell_type": "code",
   "execution_count": null,
   "id": "50d5dbc8",
   "metadata": {},
   "outputs": [],
   "source": [
    "file=r'W:\\pgp\\NPT\\4. Fenix\\2020_12Nov\\IlluminationAnglesData\\GeoRef_NPT2020_r1_2020-11-12_13-51-50_syncedNav.img'\n",
    "driver = gdal.GetDriverByName('ENVI')\n",
    "driver.Register()\n",
    "raster = gdal.Open(file, gdal.GA_ReadOnly)\n",
    "geo_transform = raster.GetGeoTransform()\n",
    "proj = raster.GetProjectionRef()\n",
    "raster_array = raster.ReadAsArray().astype(np.float)\n",
    "raster_array = np.dstack(raster_array)\n",
    "rows, cols, n_bands = raster_array.shape\n",
    "angles_array = np.reshape(raster_array, (rows * cols, n_bands))\n",
    "    \n",
    "\n",
    "\n",
    "# angle_array=angle_image\n",
    "# angle1=angle_array[:,3:8]\n",
    "# Newstrip =np.concatenate((angles,Newstrip), axis=1)"
   ]
  },
  {
   "cell_type": "code",
   "execution_count": null,
   "id": "4495def5",
   "metadata": {},
   "outputs": [],
   "source": [
    "angle1=angles_array[:,3:9]\n",
    "Newstrip =np.concatenate((angle1,Newstrip), axis=1)\n",
    "Newstrip.shape"
   ]
  },
  {
   "cell_type": "code",
   "execution_count": null,
   "id": "50ed8337",
   "metadata": {},
   "outputs": [],
   "source": [
    "file = 'W:\\\\pgp\\\\NPT\\\\4. Fenix\\\\2020_12Nov\\\\IlluminationAnglesData\\\\GeoRef_NPT2020_r13_2020-11-12_14-36-29_syncedNav.img'\n",
    "driver = gdal.GetDriverByName('ENVI')\n",
    "driver.Register()\n",
    "raster = gdal.Open(file, gdal.GA_ReadOnly)\n",
    "geo_transform = raster.GetGeoTransform()\n",
    "proj = raster.GetProjectionRef()\n",
    "raster_array = raster.ReadAsArray().astype(np.float)\n",
    "raster_array = np.dstack(raster_array)\n",
    "rows, cols, n_bands = raster_array.shape\n",
    "angles_array = np.reshape(raster_array, (rows * cols, n_bands))"
   ]
  },
  {
   "cell_type": "code",
   "execution_count": null,
   "id": "16371356",
   "metadata": {},
   "outputs": [],
   "source": [
    "angle1=angle_array[:,3:8]\n",
    "Newstrip1 =np.concatenate((angles,Newstrip), axis=1)"
   ]
  },
  {
   "cell_type": "code",
   "execution_count": null,
   "id": "c225b224",
   "metadata": {},
   "outputs": [],
   "source": [
    "print(\"NAN and Inf removal\")   \n",
    "Newstrip=np.array(Newstrip)\n",
    "Newstrip[Newstrip==np.inf]=np.nan\n",
    "Newstrip = np.nan_to_num(Newstrip)\n",
    "Newstrip=np.array(Newstrip)\n",
    "Newstrip=scaler.transform(Newstrip)\n",
    "Newstrip=np.array(Newstrip,dtype='float64')\n",
    "print(\"To chunks and inference\")   \n",
    "results=[]\n",
    "bla=np.array_split(Newstrip, 40)\n",
    "print(bla[0].shape)\n",
    "for i in range(len(bla)):\n",
    "    yt,sd=m.predict_y(bla[i])\n",
    "    results.append(yt)\n",
    "img=np.concatenate(results)\n",
    "print(\"reshaping predicted olsenp to 2D\")\n",
    "img = np.reshape(img, (rows, cols))\n",
    "img=img.reshape(img.shape[0],img.shape[1],1)"
   ]
  },
  {
   "cell_type": "code",
   "execution_count": null,
   "id": "00b37860",
   "metadata": {},
   "outputs": [],
   "source": []
  },
  {
   "cell_type": "code",
   "execution_count": null,
   "id": "43303424",
   "metadata": {},
   "outputs": [],
   "source": [
    "imshow(img)"
   ]
  },
  {
   "cell_type": "code",
   "execution_count": null,
   "id": "fb636a93",
   "metadata": {},
   "outputs": [],
   "source": [
    "import spectral.io.envi as envi\n",
    "envi.save_image('strip4.hdr',img)"
   ]
  },
  {
   "cell_type": "code",
   "execution_count": null,
   "id": "7b66d128",
   "metadata": {},
   "outputs": [],
   "source": [
    "# for i in range(len(files)):\n",
    "#     drivers = gdal.GetDriverByName('ENVI')\n",
    "#     drivers.Register()\n",
    "#     rasters = gdal.Open(GLTdats[i], gdal.GA_ReadOnly)\n",
    "#     geo_transform = rasters.GetGeoTransform()\n",
    "#     proj = rasters.GetProjectionRef()\n",
    "#     print(files[i])\n",
    "#     img=make_olsen(files[i])\n",
    "    \n",
    "# img.shape\n",
    "# img1=img.reshape(15162,384,30)\n",
    "# import spectral.io.envi as envi\n",
    "# envi.save_image('sample.hdr',img1)\n",
    "for i in range(len(files)):\n",
    "    drivers = gdal.GetDriverByName('ENVI')\n",
    "    drivers.Register()\n",
    "    rasters = gdal.Open(GLTdats[i], gdal.GA_ReadOnly)\n",
    "    geo_transform = rasters.GetGeoTransform()\n",
    "    proj = rasters.GetProjectionRef()\n",
    "    print(files[i])\n",
    "    img=make_olsen(files[i])\n",
    "    glt_memmap, output_memmap, geo_memmap= read(gltHeaders[i],ythdrs[i],img)\n",
    "    cor=apply_glt(glt_memmap, output_memmap,out=geo_memmap)\n",
    "    cor=cor[:,:,0]\n",
    "    # img_folder = os.path.join(os.getcwd(), \"olsen\")\n",
    "    str1 = os.path.basename(files[i])\n",
    "    str2 = \"rectifed_olsen.tif\"\n",
    "    newstr = \" \".join((str1, str2))\n",
    "#     print(newstr)\n",
    "#     outfile = os.path.join(os.getcwd(), \"tempolsenp\")\n",
    "#     newstr = \" \".join((outfile, newstr))\n",
    "#     print(newstr)\n",
    "    myloc=r\"C:\\\\Users\\\\prreddy\\\\Documents\\\\Python\\\\tempolsenp\\\\\"+newstr\n",
    "    outdriver = gdal.GetDriverByName('GTiff')\n",
    "    outdata = outdriver.Create(myloc,cor.shape[1],cor.shape[0],1, gdal.GDT_Float64)\n",
    "    outdata.GetRasterBand(1).WriteArray(cor)\n",
    "    outdata.SetGeoTransform(geo_transform)\n",
    "    outdata.SetProjection(proj)\n",
    "    outdata.GetRasterBand(1).SetNoDataValue(-9999)\n",
    "    outdata.FlushCache()"
   ]
  },
  {
   "cell_type": "code",
   "execution_count": null,
   "id": "60b99be0",
   "metadata": {},
   "outputs": [],
   "source": [
    "import glob\n",
    "fileList = glob.glob(r'Z:\\NPT\\4. Fenix\\2020_12Nov\\NPT_Output_28032021\\*garbage*')"
   ]
  },
  {
   "cell_type": "code",
   "execution_count": null,
   "id": "65a2c7c7",
   "metadata": {},
   "outputs": [],
   "source": [
    "for i in range(len(fileList)):\n",
    "    try:\n",
    "        os.remove(fileList[i])\n",
    "    except:\n",
    "        print(\"I cant delete it\")"
   ]
  },
  {
   "cell_type": "code",
   "execution_count": null,
   "id": "f38de9bb",
   "metadata": {},
   "outputs": [],
   "source": [
    "import numpy as np\n",
    "import math\n",
    "def SAM(s1, s2):\n",
    "    \"\"\"\n",
    "    Computes the spectral angle mapper between two vectors (in radians).\n",
    "    Parameters:\n",
    "        s1: `numpy array`\n",
    "            The first vector.\n",
    "        s2: `numpy array`\n",
    "            The second vector.\n",
    "    Returns: `float`\n",
    "            The angle between vectors s1 and s2 in radians.\n",
    "    \"\"\"\n",
    "    try:\n",
    "        s1_norm = math.sqrt(np.dot(s1, s1))\n",
    "        s2_norm = math.sqrt(np.dot(s2, s2))\n",
    "        sum_s1_s2 = np.dot(s1, s2)\n",
    "        angle = math.acos(sum_s1_s2 / (s1_norm * s2_norm))\n",
    "    except ValueError:\n",
    "        # python math don't like when acos is called with\n",
    "        # a value very near to 1\n",
    "        return 0.0\n",
    "    return angle"
   ]
  },
  {
   "cell_type": "code",
   "execution_count": null,
   "id": "bbb3a61b",
   "metadata": {},
   "outputs": [],
   "source": [
    "def SID(s1, s2):\n",
    "    \"\"\"\n",
    "    Computes the spectral information divergence between two vectors.\n",
    "    Parameters:\n",
    "        s1: `numpy array`\n",
    "            The first vector.\n",
    "        s2: `numpy array`\n",
    "            The second vector.\n",
    "    Returns: `float`\n",
    "            Spectral information divergence between s1 and s2.\n",
    "    Reference\n",
    "        C.-I. Chang, \"An Information-Theoretic Approach to SpectralVariability,\n",
    "        Similarity, and Discrimination for Hyperspectral Image\"\n",
    "        IEEE TRANSACTIONS ON INFORMATION THEORY, VOL. 46, NO. 5, AUGUST 2000.\n",
    "    \"\"\"\n",
    "    p = (s1 / np.sum(s1)) + np.spacing(1)\n",
    "    q = (s2 / np.sum(s2)) + np.spacing(1)\n",
    "    return np.sum(p * np.log(p / q) + q * np.log(q / p))"
   ]
  },
  {
   "cell_type": "code",
   "execution_count": null,
   "id": "9b7c2dbf",
   "metadata": {},
   "outputs": [],
   "source": [
    "def chebyshev(s1, s2):\n",
    "    \"\"\"\n",
    "    Computes the chebychev distance between two vector.\n",
    "    Parameters:\n",
    "        s1: `numpy array`\n",
    "            The first vector.\n",
    "        s2: `numpy array`\n",
    "            The second vector.\n",
    "    Returns: `float`\n",
    "            Chebychev distance between s1 and s2.\n",
    "    \"\"\"\n",
    "    return np.amax(np.abs(s1 - s2))"
   ]
  }
 ],
 "metadata": {
  "kernelspec": {
   "display_name": "Python 3 (ipykernel)",
   "language": "python",
   "name": "python3"
  },
  "language_info": {
   "codemirror_mode": {
    "name": "ipython",
    "version": 3
   },
   "file_extension": ".py",
   "mimetype": "text/x-python",
   "name": "python",
   "nbconvert_exporter": "python",
   "pygments_lexer": "ipython3",
   "version": "3.12.2"
  }
 },
 "nbformat": 4,
 "nbformat_minor": 5
}
