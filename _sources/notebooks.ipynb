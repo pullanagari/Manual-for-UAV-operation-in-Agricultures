{
 "cells": [
  {
   "cell_type": "markdown",
   "metadata": {},
   "source": [
    "![](logo.jpeg)\n",
    "\n",
    "# 1. Introduction\n",
    "\n",
    "Continuous advancements in Unmanned Aerial Vehicle (UAV) technology have broadened its applications in agriculture. These innovations play a crucial role in fostering sustainable solutions and influencing policies and decisions in agriculture. However, the regulatory framework for UAV flights and the development of standardized protocols for precise data capture are continuously evolving. It is imperative to uphold accurate data quality for synergizing multiyear data and other spectral sensors (satellites, drones, lab sensors. To maintain high standards, some essential steps were proposed. \n",
    "\n",
    "# 2. Pre planning\n",
    "## 2.1. Flight planning\n",
    "To carry successful drone surveys, a strategic flight planning is required. Coordinate with the project representative to establish suitable flight parameters, including spatial resolution, date, and additional ancillary measurements. \n",
    "\n",
    "List the equipment required for the survey. \n",
    "\n",
    "Select clearly identifiable ground control point (GCP) locations within the survey area, essential for referencing UAV products.\n",
    "## 2.2. Weather forecasting\n",
    "Verify the weather forecast before initiating the survey.\n",
    "Increasing availability atmosphere data from multiple satellites enables to predict accurate weather prediction for drone campaigns. \n",
    "\n",
    "Accessing weather information from ECMWF forecasts and Meteosat imagery allows the user to view up to two synchronised loops of the products. \n",
    "\n",
    "If possible, obtain local/in-situ weather conditions (cloud cover, wind etc.) from the site person. \n",
    "## 2.3. Site and risk assessment and permissions\n",
    "The pilot should identify the site using given coordinates in Google earth Maps or ArcGIS. \n",
    "\n",
    "Identify geographical features (big trees, bird conservation parks, tall building, electric polls/wires) around the survey area which might affect the data (electromagnetic interference) and flight planning.   \n",
    "\n",
    "Identify possible hazards within the survey area. \n",
    "\n",
    "The restrictions (permanent and temporary) over the site should be checked. \n",
    "\n",
    "To ensure lawful and ethical operations, the site permission should be obtained from the project representative/ site manager.  \n",
    "## 2.4. Flight survey time \n",
    "\n",
    "* Record the site conditions in the logbook before initiating the drone flight. \n",
    "\n",
    "* Check the GPS/GNSS quality, ensuring a minimum of 5 satellites are available. \n",
    "\n",
    "* Place the GCP targets in pre-defined locations. \n",
    "\n",
    "* Ensure sensors lens is clean if not clean with a lens tissue. \n",
    "\n",
    "* Turn ON instruments, especially the spectral camera, 15 minutes before collecting actual measurements. \n",
    "\n",
    "* Ensure that a clean calibration target should be used for the calibration. \n",
    "\n",
    "* It is advisable to record the calibration target before after the survey. If the survey area is big, additional measurements are required. \n",
    "\n",
    "* Record essential parameters in metadata sheet (Table 1) and logbook. \n",
    "\n",
    "## 2.5. Ancillary measurements to support UAV acquisitions. \n",
    "Calculating accurate surface reflectance values are essential in various applications and to synergies with other data. To support this, additional measurements can be conducted. \n",
    "\n",
    "**Field spectroradiometer**\n",
    "\n",
    "    Simultaneously with the drone flight, ground spectral measurements can be acquired using a spectroradiometer to align with drone spectral data. \n",
    "    \n",
    "    Downwelling solar radiation can be captured with a spectroradiometer, utilizing a sensor fiber attached to a cosine receptor and positioned upward with a tripod. \n",
    "\n",
    "**Sun photometer** for measuring aerosol optical thickness.\n",
    "\n",
    "# 3. Data management\n",
    "After the drone flight, cross checking is performed to ensure detailed metadata is recorded, and data is stored in an appropriately. Effective data management is crucial for subsequent analysis. \n",
    "\n",
    "Visual evaluation of images is necessary to identify undesirable aspects such as blurry images (RGB), illumination variations, and naming issues. \n",
    "\n",
    "# 4. Data processing piepleines\n",
    "\n",
    "## 4.1. Reading files \n",
    "\n",
    "Raw multispectral images (Digital Numbers) can be read using the following code:"
   ]
  },
  {
   "cell_type": "code",
   "execution_count": null,
   "metadata": {},
   "outputs": [],
   "source": [
    "import numpy as np\n",
    "import cv2\n",
    "import matplotlib.pyplot as plt\n",
    "import os\n",
    "import rasterio as rio\n",
    "%matplotlib inline\n",
    "\n",
    "\n",
    "# Read Multispectral/hyperspectral data\n",
    "multi = rio.open('/example.tif')\n",
    "multi_array = multi.read()\n",
    "\n",
    "\n"
   ]
  },
  {
   "cell_type": "markdown",
   "metadata": {},
   "source": [
    "# Converting Digital numbers to Radiance\n"
   ]
  },
  {
   "cell_type": "code",
   "execution_count": null,
   "metadata": {},
   "outputs": [],
   "source": [
    "# Fixing random state for reproducibility\n",
    "np.random.seed(19680801)\n",
    "\n",
    "N = 10\n",
    "data = [np.logspace(0, 1, 100) + np.random.randn(100) + ii for ii in range(N)]\n",
    "data = np.array(data).T\n",
    "cmap = plt.cm.coolwarm\n",
    "rcParams['axes.prop_cycle'] = cycler(color=cmap(np.linspace(0, 1, N)))\n",
    "\n",
    "\n",
    "from matplotlib.lines import Line2D\n",
    "custom_lines = [Line2D([0], [0], color=cmap(0.), lw=4),\n",
    "                Line2D([0], [0], color=cmap(.5), lw=4),\n",
    "                Line2D([0], [0], color=cmap(1.), lw=4)]\n",
    "\n",
    "fig, ax = plt.subplots(figsize=(10, 5))\n",
    "lines = ax.plot(data)\n",
    "ax.legend(custom_lines, ['Cold', 'Medium', 'Hot']);"
   ]
  },
  {
   "cell_type": "markdown",
   "metadata": {},
   "source": [
    "There is a lot more that you can do with outputs (such as including interactive outputs)\n",
    "with your book. For more information about this, see [the Jupyter Book documentation](https://jupyterbook.org)"
   ]
  }
 ],
 "metadata": {
  "kernelspec": {
   "display_name": "Python 3 (ipykernel)",
   "language": "python",
   "name": "python3"
  },
  "language_info": {
   "codemirror_mode": {
    "name": "ipython",
    "version": 3
   },
   "file_extension": ".py",
   "mimetype": "text/x-python",
   "name": "python",
   "nbconvert_exporter": "python",
   "pygments_lexer": "ipython3",
   "version": "3.12.2"
  },
  "widgets": {
   "application/vnd.jupyter.widget-state+json": {
    "state": {},
    "version_major": 2,
    "version_minor": 0
   }
  }
 },
 "nbformat": 4,
 "nbformat_minor": 4
}
